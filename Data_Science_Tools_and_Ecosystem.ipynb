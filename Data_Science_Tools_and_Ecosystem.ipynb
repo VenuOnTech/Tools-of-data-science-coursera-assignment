{
 "cells": [
  {
   "cell_type": "markdown",
   "id": "321c21ec",
   "metadata": {},
   "source": [
    "# Data Science Tools and Ecosystem"
   ]
  },
  {
   "cell_type": "markdown",
   "id": "01308657",
   "metadata": {},
   "source": [
    "## Introduction\n",
    "In this notebook, we summarize some of the key tools, libraries, and languages used in the field of Data Science."
   ]
  },
  {
   "cell_type": "markdown",
   "id": "21dfc8c7",
   "metadata": {},
   "source": [
    "## Data Science Languages\n",
    "Some popular languages used by Data Scientists include:\n",
    "- Python\n",
    "- R\n",
    "- SQL\n",
    "- Julia"
   ]
  },
  {
   "cell_type": "markdown",
   "id": "d5ed13ee",
   "metadata": {},
   "source": [
    "## Data Science Libraries\n",
    "Some commonly used libraries by Data Scientists include:\n",
    "- Pandas\n",
    "- NumPy\n",
    "- Matplotlib\n",
    "- Scikit-learn\n",
    "- TensorFlow"
   ]
  },
  {
   "cell_type": "markdown",
   "id": "91e79d45",
   "metadata": {},
   "source": [
    "## Data Science Tools\n",
    "| Tool              | Category       |\n",
    "|-------------------|----------------|\n",
    "| Jupyter Notebook  | IDE            |\n",
    "| RStudio           | IDE            |\n",
    "| TensorFlow        | Machine Learning |\n",
    "| Apache Spark      | Big Data       |\n",
    "| Tableau           | Visualization  |"
   ]
  },
  {
   "cell_type": "markdown",
   "id": "dde9645b",
   "metadata": {},
   "source": [
    "## Introducing Arithmetic Expressions\n",
    "Below are some examples of evaluating arithmetic expressions in Python."
   ]
  },
  {
   "cell_type": "code",
   "execution_count": null,
   "id": "0c8a9345",
   "metadata": {},
   "outputs": [],
   "source": [
    "# This will multiply 3 by 4 and then add 5\n",
    "result = (3 * 4) + 5\n",
    "result"
   ]
  },
  {
   "cell_type": "code",
   "execution_count": null,
   "id": "485306de",
   "metadata": {},
   "outputs": [],
   "source": [
    "# This converts 200 minutes to hours\n",
    "minutes = 200\n",
    "hours = minutes / 60\n",
    "hours"
   ]
  },
  {
   "cell_type": "markdown",
   "id": "529b2f43",
   "metadata": {},
   "source": [
    "## Objectives\n",
    "- List popular languages used in Data Science\n",
    "- List commonly used libraries\n",
    "- Use JupyterLite for markdown and code\n",
    "- Evaluate arithmetic expressions\n",
    "- Convert time using Python"
   ]
  },
  {
   "cell_type": "markdown",
   "id": "f58642d2",
   "metadata": {},
   "source": [
    "## Author\n",
    "**Your Name Here**"
   ]
  }
 ],
 "metadata": {},
 "nbformat": 4,
 "nbformat_minor": 5
}
